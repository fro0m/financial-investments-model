{
  "nbformat": 4,
  "nbformat_minor": 0,
  "metadata": {
    "colab": {
      "provenance": [],
      "toc_visible": true,
      "include_colab_link": true
    },
    "kernelspec": {
      "name": "python3",
      "display_name": "Python 3"
    },
    "language_info": {
      "name": "python"
    }
  },
  "cells": [
    {
      "cell_type": "markdown",
      "metadata": {
        "id": "view-in-github",
        "colab_type": "text"
      },
      "source": [
        "<a href=\"https://colab.research.google.com/github/fro0m/financial-investments-model/blob/main/cash_flow_calculator.ipynb\" target=\"_parent\"><img src=\"https://colab.research.google.com/assets/colab-badge.svg\" alt=\"Open In Colab\"/></a>"
      ]
    },
    {
      "cell_type": "markdown",
      "source": [
        "## <font color=\"blue\">Install Packages</font>"
      ],
      "metadata": {
        "id": "bWCg0m5xODxz"
      }
    },
    {
      "cell_type": "code",
      "source": [
        "!pip install numpy_financial numpy matplotlib"
      ],
      "metadata": {
        "id": "VTkXGmuuOEYn",
        "colab": {
          "base_uri": "https://localhost:8080/"
        },
        "outputId": "41a5f08d-3c16-455c-a69d-45c822b2af6b",
        "collapsed": true
      },
      "execution_count": null,
      "outputs": [
        {
          "output_type": "stream",
          "name": "stdout",
          "text": [
            "Collecting numpy_financial\n",
            "  Downloading numpy_financial-1.0.0-py3-none-any.whl.metadata (2.2 kB)\n",
            "Requirement already satisfied: numpy in /usr/local/lib/python3.10/dist-packages (1.26.4)\n",
            "Requirement already satisfied: matplotlib in /usr/local/lib/python3.10/dist-packages (3.7.1)\n",
            "Requirement already satisfied: contourpy>=1.0.1 in /usr/local/lib/python3.10/dist-packages (from matplotlib) (1.2.1)\n",
            "Requirement already satisfied: cycler>=0.10 in /usr/local/lib/python3.10/dist-packages (from matplotlib) (0.12.1)\n",
            "Requirement already satisfied: fonttools>=4.22.0 in /usr/local/lib/python3.10/dist-packages (from matplotlib) (4.53.1)\n",
            "Requirement already satisfied: kiwisolver>=1.0.1 in /usr/local/lib/python3.10/dist-packages (from matplotlib) (1.4.5)\n",
            "Requirement already satisfied: packaging>=20.0 in /usr/local/lib/python3.10/dist-packages (from matplotlib) (24.1)\n",
            "Requirement already satisfied: pillow>=6.2.0 in /usr/local/lib/python3.10/dist-packages (from matplotlib) (9.4.0)\n",
            "Requirement already satisfied: pyparsing>=2.3.1 in /usr/local/lib/python3.10/dist-packages (from matplotlib) (3.1.2)\n",
            "Requirement already satisfied: python-dateutil>=2.7 in /usr/local/lib/python3.10/dist-packages (from matplotlib) (2.8.2)\n",
            "Requirement already satisfied: six>=1.5 in /usr/local/lib/python3.10/dist-packages (from python-dateutil>=2.7->matplotlib) (1.16.0)\n",
            "Downloading numpy_financial-1.0.0-py3-none-any.whl (14 kB)\n",
            "Installing collected packages: numpy_financial\n",
            "Successfully installed numpy_financial-1.0.0\n"
          ]
        }
      ]
    },
    {
      "cell_type": "markdown",
      "source": [
        "## <font color=\"blue\">Import Libraries</font>"
      ],
      "metadata": {
        "id": "WuBqVOIiOFjt"
      }
    },
    {
      "cell_type": "code",
      "source": [
        "import plotly.graph_objects as go\n",
        "import plotly.figure_factory as ff\n",
        "import pandas as pd\n",
        "import numpy as np"
      ],
      "metadata": {
        "id": "YVI-8dyQOHt8"
      },
      "execution_count": null,
      "outputs": []
    },
    {
      "cell_type": "markdown",
      "source": [
        "## <font color=\"blue\">Data</font>"
      ],
      "metadata": {
        "id": "PpB60cpoO4gk"
      }
    },
    {
      "cell_type": "code",
      "source": [
        "df = pd.read_csv('https://raw.githubusercontent.com/analyticsariel/public-data/main/cash_flow_data.csv')\n",
        "df.head()"
      ],
      "metadata": {
        "colab": {
          "base_uri": "https://localhost:8080/",
          "height": 118
        },
        "id": "5AfE1SuDO59_",
        "outputId": "931736cc-f0ff-4a83-d2bc-2f0d2aa08339"
      },
      "execution_count": null,
      "outputs": [
        {
          "output_type": "execute_result",
          "data": {
            "text/plain": [
              "               property_address  rent  additional_income  \\\n",
              "0  123 Main St, Tampa, FL 33603  2600                 50   \n",
              "\n",
              "   principal_and_interest  taxes  insurance  property_management  cap_ex  \\\n",
              "0                    1159    528         80                  234     130   \n",
              "\n",
              "   vacancy  utilities  additional_expenses  \n",
              "0      208         50                   75  "
            ],
            "text/html": [
              "\n",
              "  <div id=\"df-6006b6de-7b89-4866-b4f9-30f7bfcc3328\" class=\"colab-df-container\">\n",
              "    <div>\n",
              "<style scoped>\n",
              "    .dataframe tbody tr th:only-of-type {\n",
              "        vertical-align: middle;\n",
              "    }\n",
              "\n",
              "    .dataframe tbody tr th {\n",
              "        vertical-align: top;\n",
              "    }\n",
              "\n",
              "    .dataframe thead th {\n",
              "        text-align: right;\n",
              "    }\n",
              "</style>\n",
              "<table border=\"1\" class=\"dataframe\">\n",
              "  <thead>\n",
              "    <tr style=\"text-align: right;\">\n",
              "      <th></th>\n",
              "      <th>property_address</th>\n",
              "      <th>rent</th>\n",
              "      <th>additional_income</th>\n",
              "      <th>principal_and_interest</th>\n",
              "      <th>taxes</th>\n",
              "      <th>insurance</th>\n",
              "      <th>property_management</th>\n",
              "      <th>cap_ex</th>\n",
              "      <th>vacancy</th>\n",
              "      <th>utilities</th>\n",
              "      <th>additional_expenses</th>\n",
              "    </tr>\n",
              "  </thead>\n",
              "  <tbody>\n",
              "    <tr>\n",
              "      <th>0</th>\n",
              "      <td>123 Main St, Tampa, FL 33603</td>\n",
              "      <td>2600</td>\n",
              "      <td>50</td>\n",
              "      <td>1159</td>\n",
              "      <td>528</td>\n",
              "      <td>80</td>\n",
              "      <td>234</td>\n",
              "      <td>130</td>\n",
              "      <td>208</td>\n",
              "      <td>50</td>\n",
              "      <td>75</td>\n",
              "    </tr>\n",
              "  </tbody>\n",
              "</table>\n",
              "</div>\n",
              "    <div class=\"colab-df-buttons\">\n",
              "\n",
              "  <div class=\"colab-df-container\">\n",
              "    <button class=\"colab-df-convert\" onclick=\"convertToInteractive('df-6006b6de-7b89-4866-b4f9-30f7bfcc3328')\"\n",
              "            title=\"Convert this dataframe to an interactive table.\"\n",
              "            style=\"display:none;\">\n",
              "\n",
              "  <svg xmlns=\"http://www.w3.org/2000/svg\" height=\"24px\" viewBox=\"0 -960 960 960\">\n",
              "    <path d=\"M120-120v-720h720v720H120Zm60-500h600v-160H180v160Zm220 220h160v-160H400v160Zm0 220h160v-160H400v160ZM180-400h160v-160H180v160Zm440 0h160v-160H620v160ZM180-180h160v-160H180v160Zm440 0h160v-160H620v160Z\"/>\n",
              "  </svg>\n",
              "    </button>\n",
              "\n",
              "  <style>\n",
              "    .colab-df-container {\n",
              "      display:flex;\n",
              "      gap: 12px;\n",
              "    }\n",
              "\n",
              "    .colab-df-convert {\n",
              "      background-color: #E8F0FE;\n",
              "      border: none;\n",
              "      border-radius: 50%;\n",
              "      cursor: pointer;\n",
              "      display: none;\n",
              "      fill: #1967D2;\n",
              "      height: 32px;\n",
              "      padding: 0 0 0 0;\n",
              "      width: 32px;\n",
              "    }\n",
              "\n",
              "    .colab-df-convert:hover {\n",
              "      background-color: #E2EBFA;\n",
              "      box-shadow: 0px 1px 2px rgba(60, 64, 67, 0.3), 0px 1px 3px 1px rgba(60, 64, 67, 0.15);\n",
              "      fill: #174EA6;\n",
              "    }\n",
              "\n",
              "    .colab-df-buttons div {\n",
              "      margin-bottom: 4px;\n",
              "    }\n",
              "\n",
              "    [theme=dark] .colab-df-convert {\n",
              "      background-color: #3B4455;\n",
              "      fill: #D2E3FC;\n",
              "    }\n",
              "\n",
              "    [theme=dark] .colab-df-convert:hover {\n",
              "      background-color: #434B5C;\n",
              "      box-shadow: 0px 1px 3px 1px rgba(0, 0, 0, 0.15);\n",
              "      filter: drop-shadow(0px 1px 2px rgba(0, 0, 0, 0.3));\n",
              "      fill: #FFFFFF;\n",
              "    }\n",
              "  </style>\n",
              "\n",
              "    <script>\n",
              "      const buttonEl =\n",
              "        document.querySelector('#df-6006b6de-7b89-4866-b4f9-30f7bfcc3328 button.colab-df-convert');\n",
              "      buttonEl.style.display =\n",
              "        google.colab.kernel.accessAllowed ? 'block' : 'none';\n",
              "\n",
              "      async function convertToInteractive(key) {\n",
              "        const element = document.querySelector('#df-6006b6de-7b89-4866-b4f9-30f7bfcc3328');\n",
              "        const dataTable =\n",
              "          await google.colab.kernel.invokeFunction('convertToInteractive',\n",
              "                                                    [key], {});\n",
              "        if (!dataTable) return;\n",
              "\n",
              "        const docLinkHtml = 'Like what you see? Visit the ' +\n",
              "          '<a target=\"_blank\" href=https://colab.research.google.com/notebooks/data_table.ipynb>data table notebook</a>'\n",
              "          + ' to learn more about interactive tables.';\n",
              "        element.innerHTML = '';\n",
              "        dataTable['output_type'] = 'display_data';\n",
              "        await google.colab.output.renderOutput(dataTable, element);\n",
              "        const docLink = document.createElement('div');\n",
              "        docLink.innerHTML = docLinkHtml;\n",
              "        element.appendChild(docLink);\n",
              "      }\n",
              "    </script>\n",
              "  </div>\n",
              "\n",
              "\n",
              "    </div>\n",
              "  </div>\n"
            ],
            "application/vnd.google.colaboratory.intrinsic+json": {
              "type": "dataframe",
              "variable_name": "df",
              "summary": "{\n  \"name\": \"df\",\n  \"rows\": 1,\n  \"fields\": [\n    {\n      \"column\": \"property_address\",\n      \"properties\": {\n        \"dtype\": \"string\",\n        \"num_unique_values\": 1,\n        \"samples\": [\n          \"123 Main St, Tampa, FL 33603\"\n        ],\n        \"semantic_type\": \"\",\n        \"description\": \"\"\n      }\n    },\n    {\n      \"column\": \"rent\",\n      \"properties\": {\n        \"dtype\": \"number\",\n        \"std\": null,\n        \"min\": 2600,\n        \"max\": 2600,\n        \"num_unique_values\": 1,\n        \"samples\": [\n          2600\n        ],\n        \"semantic_type\": \"\",\n        \"description\": \"\"\n      }\n    },\n    {\n      \"column\": \"additional_income\",\n      \"properties\": {\n        \"dtype\": \"number\",\n        \"std\": null,\n        \"min\": 50,\n        \"max\": 50,\n        \"num_unique_values\": 1,\n        \"samples\": [\n          50\n        ],\n        \"semantic_type\": \"\",\n        \"description\": \"\"\n      }\n    },\n    {\n      \"column\": \"principal_and_interest\",\n      \"properties\": {\n        \"dtype\": \"number\",\n        \"std\": null,\n        \"min\": 1159,\n        \"max\": 1159,\n        \"num_unique_values\": 1,\n        \"samples\": [\n          1159\n        ],\n        \"semantic_type\": \"\",\n        \"description\": \"\"\n      }\n    },\n    {\n      \"column\": \"taxes\",\n      \"properties\": {\n        \"dtype\": \"number\",\n        \"std\": null,\n        \"min\": 528,\n        \"max\": 528,\n        \"num_unique_values\": 1,\n        \"samples\": [\n          528\n        ],\n        \"semantic_type\": \"\",\n        \"description\": \"\"\n      }\n    },\n    {\n      \"column\": \"insurance\",\n      \"properties\": {\n        \"dtype\": \"number\",\n        \"std\": null,\n        \"min\": 80,\n        \"max\": 80,\n        \"num_unique_values\": 1,\n        \"samples\": [\n          80\n        ],\n        \"semantic_type\": \"\",\n        \"description\": \"\"\n      }\n    },\n    {\n      \"column\": \"property_management\",\n      \"properties\": {\n        \"dtype\": \"number\",\n        \"std\": null,\n        \"min\": 234,\n        \"max\": 234,\n        \"num_unique_values\": 1,\n        \"samples\": [\n          234\n        ],\n        \"semantic_type\": \"\",\n        \"description\": \"\"\n      }\n    },\n    {\n      \"column\": \"cap_ex\",\n      \"properties\": {\n        \"dtype\": \"number\",\n        \"std\": null,\n        \"min\": 130,\n        \"max\": 130,\n        \"num_unique_values\": 1,\n        \"samples\": [\n          130\n        ],\n        \"semantic_type\": \"\",\n        \"description\": \"\"\n      }\n    },\n    {\n      \"column\": \"vacancy\",\n      \"properties\": {\n        \"dtype\": \"number\",\n        \"std\": null,\n        \"min\": 208,\n        \"max\": 208,\n        \"num_unique_values\": 1,\n        \"samples\": [\n          208\n        ],\n        \"semantic_type\": \"\",\n        \"description\": \"\"\n      }\n    },\n    {\n      \"column\": \"utilities\",\n      \"properties\": {\n        \"dtype\": \"number\",\n        \"std\": null,\n        \"min\": 50,\n        \"max\": 50,\n        \"num_unique_values\": 1,\n        \"samples\": [\n          50\n        ],\n        \"semantic_type\": \"\",\n        \"description\": \"\"\n      }\n    },\n    {\n      \"column\": \"additional_expenses\",\n      \"properties\": {\n        \"dtype\": \"number\",\n        \"std\": null,\n        \"min\": 75,\n        \"max\": 75,\n        \"num_unique_values\": 1,\n        \"samples\": [\n          75\n        ],\n        \"semantic_type\": \"\",\n        \"description\": \"\"\n      }\n    }\n  ]\n}"
            }
          },
          "metadata": {},
          "execution_count": 17
        }
      ]
    },
    {
      "cell_type": "code",
      "source": [
        "# assign variables to values in table\n",
        "property_address = df['property_address'].iloc[0]\n",
        "rent = df['rent'].iloc[0]\n",
        "additional_income = df['additional_income'].iloc[0]\n",
        "principal_and_interest = df['principal_and_interest'].iloc[0]\n",
        "taxes = df['taxes'].iloc[0]\n",
        "insurance = df['insurance'].iloc[0]\n",
        "property_management = df['property_management'].iloc[0]\n",
        "cap_ex = df['cap_ex'].iloc[0]\n",
        "vacancy = df['vacancy'].iloc[0]\n",
        "utilities = df['utilities'].iloc[0]\n",
        "additional_expenses = df['additional_expenses'].iloc[0]\n",
        "\n",
        "# summary variables\n",
        "total_income = rent + additional_income\n",
        "fixed_expense = principal_and_interest + taxes + insurance\n",
        "variable_expense = property_management + cap_ex + vacancy + utilities + additional_expenses\n",
        "total_expense = fixed_expense + variable_expense"
      ],
      "metadata": {
        "id": "5ScUj684ZVpX"
      },
      "execution_count": null,
      "outputs": []
    },
    {
      "cell_type": "markdown",
      "source": [
        "## <font color=\"blue\">Transform</font>"
      ],
      "metadata": {
        "id": "P_-QDgiDOLLN"
      }
    },
    {
      "cell_type": "code",
      "source": [
        "# create list of labels for the chart\n",
        "label_list = [ \"Income\",\n",
        "               \"Rent\",\n",
        "               \"Additional Income\",\n",
        "               \"Expense\",\n",
        "               \"Fixed\",\n",
        "               \"Variable\",\n",
        "               \"Principal & Interest\",\n",
        "               \"Taxes\",\n",
        "               \"Insurance\",\n",
        "               \"Property Management\",\n",
        "               \"CapEx\",\n",
        "               \"Vacancy\",\n",
        "               \"Utilities\",\n",
        "               \"Additional Expenses\",\n",
        "               ]\n",
        "# append an index number to each element in the list\n",
        "label_dict = {}\n",
        "for i in range(len(label_list)):\n",
        "  label_dict[label_list[i]] = i\n",
        "label_dict"
      ],
      "metadata": {
        "colab": {
          "base_uri": "https://localhost:8080/"
        },
        "id": "IIkINZe2X0tA",
        "outputId": "d69212ce-e032-47ba-a2d7-3a52439cf69a"
      },
      "execution_count": null,
      "outputs": [
        {
          "output_type": "execute_result",
          "data": {
            "text/plain": [
              "{'Income': 0,\n",
              " 'Rent': 1,\n",
              " 'Additional Income': 2,\n",
              " 'Expense': 3,\n",
              " 'Fixed': 4,\n",
              " 'Variable': 5,\n",
              " 'Principal & Interest': 6,\n",
              " 'Taxes': 7,\n",
              " 'Insurance': 8,\n",
              " 'Property Management': 9,\n",
              " 'CapEx': 10,\n",
              " 'Vacancy': 11,\n",
              " 'Utilities': 12,\n",
              " 'Additional Expenses': 13}"
            ]
          },
          "metadata": {},
          "execution_count": 5
        }
      ]
    },
    {
      "cell_type": "code",
      "source": [
        "# create sub list for each node -> target -> value\n",
        "sankey_list = [\n",
        "  # income\n",
        "  [\"Income\", \"Rent\", rent],\n",
        "  [\"Income\", \"Additional Income\", additional_income],\n",
        "  # expenses [fixed]\n",
        "  [\"Expense\", \"Fixed\", fixed_expense],\n",
        "  [\"Fixed\", \"Principal & Interest\", principal_and_interest],\n",
        "  [\"Fixed\", \"Taxes\", taxes],\n",
        "  [\"Fixed\", \"Insurance\", insurance],\n",
        "  # expenses [variable]\n",
        "  [\"Expense\", \"Variable\", variable_expense],\n",
        "  [\"Variable\", \"Property Management\", property_management],\n",
        "  [\"Variable\", \"CapEx\", cap_ex],\n",
        "  [\"Variable\", \"Vacancy\", vacancy],\n",
        "  [\"Variable\", \"Utilities\", utilities],\n",
        "  [\"Variable\", \"Additional Expenses\", additional_expenses],\n",
        "]"
      ],
      "metadata": {
        "id": "qM84BTATLcwF"
      },
      "execution_count": null,
      "outputs": []
    },
    {
      "cell_type": "code",
      "source": [
        "# create sublists from the sankey list\n",
        "source_list = [label_dict[x[0]] for x in sankey_list]\n",
        "target_list = [label_dict[x[1]] for x in sankey_list]\n",
        "value_list = [x[2] for x in sankey_list]\n",
        "\n",
        "print('Source list:', source_list)\n",
        "print('Target list:', target_list)\n",
        "print('Value list:', value_list)"
      ],
      "metadata": {
        "colab": {
          "base_uri": "https://localhost:8080/"
        },
        "id": "2Ra6NQQHZCqD",
        "outputId": "9a54047c-db0b-49eb-a5cc-997ee27d6bd2"
      },
      "execution_count": null,
      "outputs": [
        {
          "output_type": "stream",
          "name": "stdout",
          "text": [
            "Source list: [0, 0, 3, 4, 4, 4, 3, 5, 5, 5, 5, 5]\n",
            "Target list: [1, 2, 4, 6, 7, 8, 5, 9, 10, 11, 12, 13]\n",
            "Value list: [2600, 50, 1767, 1159, 528, 80, 697, 234, 130, 208, 50, 75]\n"
          ]
        }
      ]
    },
    {
      "cell_type": "markdown",
      "source": [
        "## <font color=\"blue\">Visualization</font>"
      ],
      "metadata": {
        "id": "YnYhmFFsOOII"
      }
    },
    {
      "cell_type": "code",
      "source": [
        "fig = go.Figure(go.Indicator(\n",
        "    mode = \"number+delta\",\n",
        "    value = total_income - total_expense,\n",
        "    number = {'prefix': \"Cash Flow - $\"},\n",
        "    domain = {'x': [0, 1], 'y': [0, 1]})\n",
        ")\n",
        "\n",
        "fig.update_layout(height=300)\n",
        "\n",
        "fig.show()"
      ],
      "metadata": {
        "colab": {
          "base_uri": "https://localhost:8080/",
          "height": 317
        },
        "id": "Q6r7nNG0cKBN",
        "outputId": "e89c023c-7803-4050-fab1-368a7d08155b"
      },
      "execution_count": null,
      "outputs": [
        {
          "output_type": "display_data",
          "data": {
            "text/html": [
              "<html>\n",
              "<head><meta charset=\"utf-8\" /></head>\n",
              "<body>\n",
              "    <div>            <script src=\"https://cdnjs.cloudflare.com/ajax/libs/mathjax/2.7.5/MathJax.js?config=TeX-AMS-MML_SVG\"></script><script type=\"text/javascript\">if (window.MathJax && window.MathJax.Hub && window.MathJax.Hub.Config) {window.MathJax.Hub.Config({SVG: {font: \"STIX-Web\"}});}</script>                <script type=\"text/javascript\">window.PlotlyConfig = {MathJaxConfig: 'local'};</script>\n",
              "        <script charset=\"utf-8\" src=\"https://cdn.plot.ly/plotly-2.24.1.min.js\"></script>                <div id=\"3bea7719-ba5e-4b50-a095-72d5424d0d1d\" class=\"plotly-graph-div\" style=\"height:300px; width:100%;\"></div>            <script type=\"text/javascript\">                                    window.PLOTLYENV=window.PLOTLYENV || {};                                    if (document.getElementById(\"3bea7719-ba5e-4b50-a095-72d5424d0d1d\")) {                    Plotly.newPlot(                        \"3bea7719-ba5e-4b50-a095-72d5424d0d1d\",                        [{\"domain\":{\"x\":[0,1],\"y\":[0,1]},\"mode\":\"number+delta\",\"number\":{\"prefix\":\"Cash Flow - $\"},\"value\":186,\"type\":\"indicator\"}],                        {\"template\":{\"data\":{\"histogram2dcontour\":[{\"type\":\"histogram2dcontour\",\"colorbar\":{\"outlinewidth\":0,\"ticks\":\"\"},\"colorscale\":[[0.0,\"#0d0887\"],[0.1111111111111111,\"#46039f\"],[0.2222222222222222,\"#7201a8\"],[0.3333333333333333,\"#9c179e\"],[0.4444444444444444,\"#bd3786\"],[0.5555555555555556,\"#d8576b\"],[0.6666666666666666,\"#ed7953\"],[0.7777777777777778,\"#fb9f3a\"],[0.8888888888888888,\"#fdca26\"],[1.0,\"#f0f921\"]]}],\"choropleth\":[{\"type\":\"choropleth\",\"colorbar\":{\"outlinewidth\":0,\"ticks\":\"\"}}],\"histogram2d\":[{\"type\":\"histogram2d\",\"colorbar\":{\"outlinewidth\":0,\"ticks\":\"\"},\"colorscale\":[[0.0,\"#0d0887\"],[0.1111111111111111,\"#46039f\"],[0.2222222222222222,\"#7201a8\"],[0.3333333333333333,\"#9c179e\"],[0.4444444444444444,\"#bd3786\"],[0.5555555555555556,\"#d8576b\"],[0.6666666666666666,\"#ed7953\"],[0.7777777777777778,\"#fb9f3a\"],[0.8888888888888888,\"#fdca26\"],[1.0,\"#f0f921\"]]}],\"heatmap\":[{\"type\":\"heatmap\",\"colorbar\":{\"outlinewidth\":0,\"ticks\":\"\"},\"colorscale\":[[0.0,\"#0d0887\"],[0.1111111111111111,\"#46039f\"],[0.2222222222222222,\"#7201a8\"],[0.3333333333333333,\"#9c179e\"],[0.4444444444444444,\"#bd3786\"],[0.5555555555555556,\"#d8576b\"],[0.6666666666666666,\"#ed7953\"],[0.7777777777777778,\"#fb9f3a\"],[0.8888888888888888,\"#fdca26\"],[1.0,\"#f0f921\"]]}],\"heatmapgl\":[{\"type\":\"heatmapgl\",\"colorbar\":{\"outlinewidth\":0,\"ticks\":\"\"},\"colorscale\":[[0.0,\"#0d0887\"],[0.1111111111111111,\"#46039f\"],[0.2222222222222222,\"#7201a8\"],[0.3333333333333333,\"#9c179e\"],[0.4444444444444444,\"#bd3786\"],[0.5555555555555556,\"#d8576b\"],[0.6666666666666666,\"#ed7953\"],[0.7777777777777778,\"#fb9f3a\"],[0.8888888888888888,\"#fdca26\"],[1.0,\"#f0f921\"]]}],\"contourcarpet\":[{\"type\":\"contourcarpet\",\"colorbar\":{\"outlinewidth\":0,\"ticks\":\"\"}}],\"contour\":[{\"type\":\"contour\",\"colorbar\":{\"outlinewidth\":0,\"ticks\":\"\"},\"colorscale\":[[0.0,\"#0d0887\"],[0.1111111111111111,\"#46039f\"],[0.2222222222222222,\"#7201a8\"],[0.3333333333333333,\"#9c179e\"],[0.4444444444444444,\"#bd3786\"],[0.5555555555555556,\"#d8576b\"],[0.6666666666666666,\"#ed7953\"],[0.7777777777777778,\"#fb9f3a\"],[0.8888888888888888,\"#fdca26\"],[1.0,\"#f0f921\"]]}],\"surface\":[{\"type\":\"surface\",\"colorbar\":{\"outlinewidth\":0,\"ticks\":\"\"},\"colorscale\":[[0.0,\"#0d0887\"],[0.1111111111111111,\"#46039f\"],[0.2222222222222222,\"#7201a8\"],[0.3333333333333333,\"#9c179e\"],[0.4444444444444444,\"#bd3786\"],[0.5555555555555556,\"#d8576b\"],[0.6666666666666666,\"#ed7953\"],[0.7777777777777778,\"#fb9f3a\"],[0.8888888888888888,\"#fdca26\"],[1.0,\"#f0f921\"]]}],\"mesh3d\":[{\"type\":\"mesh3d\",\"colorbar\":{\"outlinewidth\":0,\"ticks\":\"\"}}],\"scatter\":[{\"fillpattern\":{\"fillmode\":\"overlay\",\"size\":10,\"solidity\":0.2},\"type\":\"scatter\"}],\"parcoords\":[{\"type\":\"parcoords\",\"line\":{\"colorbar\":{\"outlinewidth\":0,\"ticks\":\"\"}}}],\"scatterpolargl\":[{\"type\":\"scatterpolargl\",\"marker\":{\"colorbar\":{\"outlinewidth\":0,\"ticks\":\"\"}}}],\"bar\":[{\"error_x\":{\"color\":\"#2a3f5f\"},\"error_y\":{\"color\":\"#2a3f5f\"},\"marker\":{\"line\":{\"color\":\"#E5ECF6\",\"width\":0.5},\"pattern\":{\"fillmode\":\"overlay\",\"size\":10,\"solidity\":0.2}},\"type\":\"bar\"}],\"scattergeo\":[{\"type\":\"scattergeo\",\"marker\":{\"colorbar\":{\"outlinewidth\":0,\"ticks\":\"\"}}}],\"scatterpolar\":[{\"type\":\"scatterpolar\",\"marker\":{\"colorbar\":{\"outlinewidth\":0,\"ticks\":\"\"}}}],\"histogram\":[{\"marker\":{\"pattern\":{\"fillmode\":\"overlay\",\"size\":10,\"solidity\":0.2}},\"type\":\"histogram\"}],\"scattergl\":[{\"type\":\"scattergl\",\"marker\":{\"colorbar\":{\"outlinewidth\":0,\"ticks\":\"\"}}}],\"scatter3d\":[{\"type\":\"scatter3d\",\"line\":{\"colorbar\":{\"outlinewidth\":0,\"ticks\":\"\"}},\"marker\":{\"colorbar\":{\"outlinewidth\":0,\"ticks\":\"\"}}}],\"scattermapbox\":[{\"type\":\"scattermapbox\",\"marker\":{\"colorbar\":{\"outlinewidth\":0,\"ticks\":\"\"}}}],\"scatterternary\":[{\"type\":\"scatterternary\",\"marker\":{\"colorbar\":{\"outlinewidth\":0,\"ticks\":\"\"}}}],\"scattercarpet\":[{\"type\":\"scattercarpet\",\"marker\":{\"colorbar\":{\"outlinewidth\":0,\"ticks\":\"\"}}}],\"carpet\":[{\"aaxis\":{\"endlinecolor\":\"#2a3f5f\",\"gridcolor\":\"white\",\"linecolor\":\"white\",\"minorgridcolor\":\"white\",\"startlinecolor\":\"#2a3f5f\"},\"baxis\":{\"endlinecolor\":\"#2a3f5f\",\"gridcolor\":\"white\",\"linecolor\":\"white\",\"minorgridcolor\":\"white\",\"startlinecolor\":\"#2a3f5f\"},\"type\":\"carpet\"}],\"table\":[{\"cells\":{\"fill\":{\"color\":\"#EBF0F8\"},\"line\":{\"color\":\"white\"}},\"header\":{\"fill\":{\"color\":\"#C8D4E3\"},\"line\":{\"color\":\"white\"}},\"type\":\"table\"}],\"barpolar\":[{\"marker\":{\"line\":{\"color\":\"#E5ECF6\",\"width\":0.5},\"pattern\":{\"fillmode\":\"overlay\",\"size\":10,\"solidity\":0.2}},\"type\":\"barpolar\"}],\"pie\":[{\"automargin\":true,\"type\":\"pie\"}]},\"layout\":{\"autotypenumbers\":\"strict\",\"colorway\":[\"#636efa\",\"#EF553B\",\"#00cc96\",\"#ab63fa\",\"#FFA15A\",\"#19d3f3\",\"#FF6692\",\"#B6E880\",\"#FF97FF\",\"#FECB52\"],\"font\":{\"color\":\"#2a3f5f\"},\"hovermode\":\"closest\",\"hoverlabel\":{\"align\":\"left\"},\"paper_bgcolor\":\"white\",\"plot_bgcolor\":\"#E5ECF6\",\"polar\":{\"bgcolor\":\"#E5ECF6\",\"angularaxis\":{\"gridcolor\":\"white\",\"linecolor\":\"white\",\"ticks\":\"\"},\"radialaxis\":{\"gridcolor\":\"white\",\"linecolor\":\"white\",\"ticks\":\"\"}},\"ternary\":{\"bgcolor\":\"#E5ECF6\",\"aaxis\":{\"gridcolor\":\"white\",\"linecolor\":\"white\",\"ticks\":\"\"},\"baxis\":{\"gridcolor\":\"white\",\"linecolor\":\"white\",\"ticks\":\"\"},\"caxis\":{\"gridcolor\":\"white\",\"linecolor\":\"white\",\"ticks\":\"\"}},\"coloraxis\":{\"colorbar\":{\"outlinewidth\":0,\"ticks\":\"\"}},\"colorscale\":{\"sequential\":[[0.0,\"#0d0887\"],[0.1111111111111111,\"#46039f\"],[0.2222222222222222,\"#7201a8\"],[0.3333333333333333,\"#9c179e\"],[0.4444444444444444,\"#bd3786\"],[0.5555555555555556,\"#d8576b\"],[0.6666666666666666,\"#ed7953\"],[0.7777777777777778,\"#fb9f3a\"],[0.8888888888888888,\"#fdca26\"],[1.0,\"#f0f921\"]],\"sequentialminus\":[[0.0,\"#0d0887\"],[0.1111111111111111,\"#46039f\"],[0.2222222222222222,\"#7201a8\"],[0.3333333333333333,\"#9c179e\"],[0.4444444444444444,\"#bd3786\"],[0.5555555555555556,\"#d8576b\"],[0.6666666666666666,\"#ed7953\"],[0.7777777777777778,\"#fb9f3a\"],[0.8888888888888888,\"#fdca26\"],[1.0,\"#f0f921\"]],\"diverging\":[[0,\"#8e0152\"],[0.1,\"#c51b7d\"],[0.2,\"#de77ae\"],[0.3,\"#f1b6da\"],[0.4,\"#fde0ef\"],[0.5,\"#f7f7f7\"],[0.6,\"#e6f5d0\"],[0.7,\"#b8e186\"],[0.8,\"#7fbc41\"],[0.9,\"#4d9221\"],[1,\"#276419\"]]},\"xaxis\":{\"gridcolor\":\"white\",\"linecolor\":\"white\",\"ticks\":\"\",\"title\":{\"standoff\":15},\"zerolinecolor\":\"white\",\"automargin\":true,\"zerolinewidth\":2},\"yaxis\":{\"gridcolor\":\"white\",\"linecolor\":\"white\",\"ticks\":\"\",\"title\":{\"standoff\":15},\"zerolinecolor\":\"white\",\"automargin\":true,\"zerolinewidth\":2},\"scene\":{\"xaxis\":{\"backgroundcolor\":\"#E5ECF6\",\"gridcolor\":\"white\",\"linecolor\":\"white\",\"showbackground\":true,\"ticks\":\"\",\"zerolinecolor\":\"white\",\"gridwidth\":2},\"yaxis\":{\"backgroundcolor\":\"#E5ECF6\",\"gridcolor\":\"white\",\"linecolor\":\"white\",\"showbackground\":true,\"ticks\":\"\",\"zerolinecolor\":\"white\",\"gridwidth\":2},\"zaxis\":{\"backgroundcolor\":\"#E5ECF6\",\"gridcolor\":\"white\",\"linecolor\":\"white\",\"showbackground\":true,\"ticks\":\"\",\"zerolinecolor\":\"white\",\"gridwidth\":2}},\"shapedefaults\":{\"line\":{\"color\":\"#2a3f5f\"}},\"annotationdefaults\":{\"arrowcolor\":\"#2a3f5f\",\"arrowhead\":0,\"arrowwidth\":1},\"geo\":{\"bgcolor\":\"white\",\"landcolor\":\"#E5ECF6\",\"subunitcolor\":\"white\",\"showland\":true,\"showlakes\":true,\"lakecolor\":\"white\"},\"title\":{\"x\":0.05},\"mapbox\":{\"style\":\"light\"}}},\"height\":300},                        {\"responsive\": true}                    ).then(function(){\n",
              "                            \n",
              "var gd = document.getElementById('3bea7719-ba5e-4b50-a095-72d5424d0d1d');\n",
              "var x = new MutationObserver(function (mutations, observer) {{\n",
              "        var display = window.getComputedStyle(gd).display;\n",
              "        if (!display || display === 'none') {{\n",
              "            console.log([gd, 'removed!']);\n",
              "            Plotly.purge(gd);\n",
              "            observer.disconnect();\n",
              "        }}\n",
              "}});\n",
              "\n",
              "// Listen for the removal of the full notebook cells\n",
              "var notebookContainer = gd.closest('#notebook-container');\n",
              "if (notebookContainer) {{\n",
              "    x.observe(notebookContainer, {childList: true});\n",
              "}}\n",
              "\n",
              "// Listen for the clearing of the current output cell\n",
              "var outputEl = gd.closest('.output');\n",
              "if (outputEl) {{\n",
              "    x.observe(outputEl, {childList: true});\n",
              "}}\n",
              "\n",
              "                        })                };                            </script>        </div>\n",
              "</body>\n",
              "</html>"
            ]
          },
          "metadata": {}
        }
      ]
    },
    {
      "cell_type": "code",
      "source": [
        "# create figure\n",
        "fig = go.Figure(data=[go.Sankey(\n",
        "    # nodes\n",
        "    node = dict(\n",
        "      pad = 15,\n",
        "      thickness = 20,\n",
        "      line = dict(color = \"black\", width = 0.5),\n",
        "      label = label_list, # cash flow parameters\n",
        "      hovertemplate='%{label} has total value $%{value}',\n",
        "    ),\n",
        "    # links\n",
        "    link = dict(\n",
        "      source = source_list, # start node\n",
        "      target = target_list, # end node\n",
        "      value = value_list # value of end node\n",
        "  ))])\n",
        "\n",
        "fig.update_layout(\n",
        "    hovermode = 'x',\n",
        "    title=\"Income & Expenses<br>Property Address: {}\".format(property_address),\n",
        "    # optional for black background\n",
        "    font=dict(size = 10, color = 'white'),\n",
        "    plot_bgcolor='black',\n",
        "    paper_bgcolor='black'\n",
        ")\n",
        "\n",
        "fig.show()"
      ],
      "metadata": {
        "colab": {
          "base_uri": "https://localhost:8080/",
          "height": 542
        },
        "id": "vpkbKnt2LEtm",
        "outputId": "c72979cc-8667-4331-e828-e8c76b5af2bd"
      },
      "execution_count": null,
      "outputs": [
        {
          "output_type": "display_data",
          "data": {
            "text/html": [
              "<html>\n",
              "<head><meta charset=\"utf-8\" /></head>\n",
              "<body>\n",
              "    <div>            <script src=\"https://cdnjs.cloudflare.com/ajax/libs/mathjax/2.7.5/MathJax.js?config=TeX-AMS-MML_SVG\"></script><script type=\"text/javascript\">if (window.MathJax && window.MathJax.Hub && window.MathJax.Hub.Config) {window.MathJax.Hub.Config({SVG: {font: \"STIX-Web\"}});}</script>                <script type=\"text/javascript\">window.PlotlyConfig = {MathJaxConfig: 'local'};</script>\n",
              "        <script charset=\"utf-8\" src=\"https://cdn.plot.ly/plotly-2.24.1.min.js\"></script>                <div id=\"655bf64d-965c-491a-b7c6-293338320b4f\" class=\"plotly-graph-div\" style=\"height:525px; width:100%;\"></div>            <script type=\"text/javascript\">                                    window.PLOTLYENV=window.PLOTLYENV || {};                                    if (document.getElementById(\"655bf64d-965c-491a-b7c6-293338320b4f\")) {                    Plotly.newPlot(                        \"655bf64d-965c-491a-b7c6-293338320b4f\",                        [{\"link\":{\"source\":[0,0,3,4,4,4,3,5,5,5,5,5],\"target\":[1,2,4,6,7,8,5,9,10,11,12,13],\"value\":[2600,50,1767,1159,528,80,697,234,130,208,50,75]},\"node\":{\"hovertemplate\":\"%{label} has total value $%{value}\",\"label\":[\"Income\",\"Rent\",\"Additional Income\",\"Expense\",\"Fixed\",\"Variable\",\"Principal & Interest\",\"Taxes\",\"Insurance\",\"Property Management\",\"CapEx\",\"Vacancy\",\"Utilities\",\"Additional Expenses\"],\"line\":{\"color\":\"black\",\"width\":0.5},\"pad\":15,\"thickness\":20},\"type\":\"sankey\"}],                        {\"template\":{\"data\":{\"histogram2dcontour\":[{\"type\":\"histogram2dcontour\",\"colorbar\":{\"outlinewidth\":0,\"ticks\":\"\"},\"colorscale\":[[0.0,\"#0d0887\"],[0.1111111111111111,\"#46039f\"],[0.2222222222222222,\"#7201a8\"],[0.3333333333333333,\"#9c179e\"],[0.4444444444444444,\"#bd3786\"],[0.5555555555555556,\"#d8576b\"],[0.6666666666666666,\"#ed7953\"],[0.7777777777777778,\"#fb9f3a\"],[0.8888888888888888,\"#fdca26\"],[1.0,\"#f0f921\"]]}],\"choropleth\":[{\"type\":\"choropleth\",\"colorbar\":{\"outlinewidth\":0,\"ticks\":\"\"}}],\"histogram2d\":[{\"type\":\"histogram2d\",\"colorbar\":{\"outlinewidth\":0,\"ticks\":\"\"},\"colorscale\":[[0.0,\"#0d0887\"],[0.1111111111111111,\"#46039f\"],[0.2222222222222222,\"#7201a8\"],[0.3333333333333333,\"#9c179e\"],[0.4444444444444444,\"#bd3786\"],[0.5555555555555556,\"#d8576b\"],[0.6666666666666666,\"#ed7953\"],[0.7777777777777778,\"#fb9f3a\"],[0.8888888888888888,\"#fdca26\"],[1.0,\"#f0f921\"]]}],\"heatmap\":[{\"type\":\"heatmap\",\"colorbar\":{\"outlinewidth\":0,\"ticks\":\"\"},\"colorscale\":[[0.0,\"#0d0887\"],[0.1111111111111111,\"#46039f\"],[0.2222222222222222,\"#7201a8\"],[0.3333333333333333,\"#9c179e\"],[0.4444444444444444,\"#bd3786\"],[0.5555555555555556,\"#d8576b\"],[0.6666666666666666,\"#ed7953\"],[0.7777777777777778,\"#fb9f3a\"],[0.8888888888888888,\"#fdca26\"],[1.0,\"#f0f921\"]]}],\"heatmapgl\":[{\"type\":\"heatmapgl\",\"colorbar\":{\"outlinewidth\":0,\"ticks\":\"\"},\"colorscale\":[[0.0,\"#0d0887\"],[0.1111111111111111,\"#46039f\"],[0.2222222222222222,\"#7201a8\"],[0.3333333333333333,\"#9c179e\"],[0.4444444444444444,\"#bd3786\"],[0.5555555555555556,\"#d8576b\"],[0.6666666666666666,\"#ed7953\"],[0.7777777777777778,\"#fb9f3a\"],[0.8888888888888888,\"#fdca26\"],[1.0,\"#f0f921\"]]}],\"contourcarpet\":[{\"type\":\"contourcarpet\",\"colorbar\":{\"outlinewidth\":0,\"ticks\":\"\"}}],\"contour\":[{\"type\":\"contour\",\"colorbar\":{\"outlinewidth\":0,\"ticks\":\"\"},\"colorscale\":[[0.0,\"#0d0887\"],[0.1111111111111111,\"#46039f\"],[0.2222222222222222,\"#7201a8\"],[0.3333333333333333,\"#9c179e\"],[0.4444444444444444,\"#bd3786\"],[0.5555555555555556,\"#d8576b\"],[0.6666666666666666,\"#ed7953\"],[0.7777777777777778,\"#fb9f3a\"],[0.8888888888888888,\"#fdca26\"],[1.0,\"#f0f921\"]]}],\"surface\":[{\"type\":\"surface\",\"colorbar\":{\"outlinewidth\":0,\"ticks\":\"\"},\"colorscale\":[[0.0,\"#0d0887\"],[0.1111111111111111,\"#46039f\"],[0.2222222222222222,\"#7201a8\"],[0.3333333333333333,\"#9c179e\"],[0.4444444444444444,\"#bd3786\"],[0.5555555555555556,\"#d8576b\"],[0.6666666666666666,\"#ed7953\"],[0.7777777777777778,\"#fb9f3a\"],[0.8888888888888888,\"#fdca26\"],[1.0,\"#f0f921\"]]}],\"mesh3d\":[{\"type\":\"mesh3d\",\"colorbar\":{\"outlinewidth\":0,\"ticks\":\"\"}}],\"scatter\":[{\"fillpattern\":{\"fillmode\":\"overlay\",\"size\":10,\"solidity\":0.2},\"type\":\"scatter\"}],\"parcoords\":[{\"type\":\"parcoords\",\"line\":{\"colorbar\":{\"outlinewidth\":0,\"ticks\":\"\"}}}],\"scatterpolargl\":[{\"type\":\"scatterpolargl\",\"marker\":{\"colorbar\":{\"outlinewidth\":0,\"ticks\":\"\"}}}],\"bar\":[{\"error_x\":{\"color\":\"#2a3f5f\"},\"error_y\":{\"color\":\"#2a3f5f\"},\"marker\":{\"line\":{\"color\":\"#E5ECF6\",\"width\":0.5},\"pattern\":{\"fillmode\":\"overlay\",\"size\":10,\"solidity\":0.2}},\"type\":\"bar\"}],\"scattergeo\":[{\"type\":\"scattergeo\",\"marker\":{\"colorbar\":{\"outlinewidth\":0,\"ticks\":\"\"}}}],\"scatterpolar\":[{\"type\":\"scatterpolar\",\"marker\":{\"colorbar\":{\"outlinewidth\":0,\"ticks\":\"\"}}}],\"histogram\":[{\"marker\":{\"pattern\":{\"fillmode\":\"overlay\",\"size\":10,\"solidity\":0.2}},\"type\":\"histogram\"}],\"scattergl\":[{\"type\":\"scattergl\",\"marker\":{\"colorbar\":{\"outlinewidth\":0,\"ticks\":\"\"}}}],\"scatter3d\":[{\"type\":\"scatter3d\",\"line\":{\"colorbar\":{\"outlinewidth\":0,\"ticks\":\"\"}},\"marker\":{\"colorbar\":{\"outlinewidth\":0,\"ticks\":\"\"}}}],\"scattermapbox\":[{\"type\":\"scattermapbox\",\"marker\":{\"colorbar\":{\"outlinewidth\":0,\"ticks\":\"\"}}}],\"scatterternary\":[{\"type\":\"scatterternary\",\"marker\":{\"colorbar\":{\"outlinewidth\":0,\"ticks\":\"\"}}}],\"scattercarpet\":[{\"type\":\"scattercarpet\",\"marker\":{\"colorbar\":{\"outlinewidth\":0,\"ticks\":\"\"}}}],\"carpet\":[{\"aaxis\":{\"endlinecolor\":\"#2a3f5f\",\"gridcolor\":\"white\",\"linecolor\":\"white\",\"minorgridcolor\":\"white\",\"startlinecolor\":\"#2a3f5f\"},\"baxis\":{\"endlinecolor\":\"#2a3f5f\",\"gridcolor\":\"white\",\"linecolor\":\"white\",\"minorgridcolor\":\"white\",\"startlinecolor\":\"#2a3f5f\"},\"type\":\"carpet\"}],\"table\":[{\"cells\":{\"fill\":{\"color\":\"#EBF0F8\"},\"line\":{\"color\":\"white\"}},\"header\":{\"fill\":{\"color\":\"#C8D4E3\"},\"line\":{\"color\":\"white\"}},\"type\":\"table\"}],\"barpolar\":[{\"marker\":{\"line\":{\"color\":\"#E5ECF6\",\"width\":0.5},\"pattern\":{\"fillmode\":\"overlay\",\"size\":10,\"solidity\":0.2}},\"type\":\"barpolar\"}],\"pie\":[{\"automargin\":true,\"type\":\"pie\"}]},\"layout\":{\"autotypenumbers\":\"strict\",\"colorway\":[\"#636efa\",\"#EF553B\",\"#00cc96\",\"#ab63fa\",\"#FFA15A\",\"#19d3f3\",\"#FF6692\",\"#B6E880\",\"#FF97FF\",\"#FECB52\"],\"font\":{\"color\":\"#2a3f5f\"},\"hovermode\":\"closest\",\"hoverlabel\":{\"align\":\"left\"},\"paper_bgcolor\":\"white\",\"plot_bgcolor\":\"#E5ECF6\",\"polar\":{\"bgcolor\":\"#E5ECF6\",\"angularaxis\":{\"gridcolor\":\"white\",\"linecolor\":\"white\",\"ticks\":\"\"},\"radialaxis\":{\"gridcolor\":\"white\",\"linecolor\":\"white\",\"ticks\":\"\"}},\"ternary\":{\"bgcolor\":\"#E5ECF6\",\"aaxis\":{\"gridcolor\":\"white\",\"linecolor\":\"white\",\"ticks\":\"\"},\"baxis\":{\"gridcolor\":\"white\",\"linecolor\":\"white\",\"ticks\":\"\"},\"caxis\":{\"gridcolor\":\"white\",\"linecolor\":\"white\",\"ticks\":\"\"}},\"coloraxis\":{\"colorbar\":{\"outlinewidth\":0,\"ticks\":\"\"}},\"colorscale\":{\"sequential\":[[0.0,\"#0d0887\"],[0.1111111111111111,\"#46039f\"],[0.2222222222222222,\"#7201a8\"],[0.3333333333333333,\"#9c179e\"],[0.4444444444444444,\"#bd3786\"],[0.5555555555555556,\"#d8576b\"],[0.6666666666666666,\"#ed7953\"],[0.7777777777777778,\"#fb9f3a\"],[0.8888888888888888,\"#fdca26\"],[1.0,\"#f0f921\"]],\"sequentialminus\":[[0.0,\"#0d0887\"],[0.1111111111111111,\"#46039f\"],[0.2222222222222222,\"#7201a8\"],[0.3333333333333333,\"#9c179e\"],[0.4444444444444444,\"#bd3786\"],[0.5555555555555556,\"#d8576b\"],[0.6666666666666666,\"#ed7953\"],[0.7777777777777778,\"#fb9f3a\"],[0.8888888888888888,\"#fdca26\"],[1.0,\"#f0f921\"]],\"diverging\":[[0,\"#8e0152\"],[0.1,\"#c51b7d\"],[0.2,\"#de77ae\"],[0.3,\"#f1b6da\"],[0.4,\"#fde0ef\"],[0.5,\"#f7f7f7\"],[0.6,\"#e6f5d0\"],[0.7,\"#b8e186\"],[0.8,\"#7fbc41\"],[0.9,\"#4d9221\"],[1,\"#276419\"]]},\"xaxis\":{\"gridcolor\":\"white\",\"linecolor\":\"white\",\"ticks\":\"\",\"title\":{\"standoff\":15},\"zerolinecolor\":\"white\",\"automargin\":true,\"zerolinewidth\":2},\"yaxis\":{\"gridcolor\":\"white\",\"linecolor\":\"white\",\"ticks\":\"\",\"title\":{\"standoff\":15},\"zerolinecolor\":\"white\",\"automargin\":true,\"zerolinewidth\":2},\"scene\":{\"xaxis\":{\"backgroundcolor\":\"#E5ECF6\",\"gridcolor\":\"white\",\"linecolor\":\"white\",\"showbackground\":true,\"ticks\":\"\",\"zerolinecolor\":\"white\",\"gridwidth\":2},\"yaxis\":{\"backgroundcolor\":\"#E5ECF6\",\"gridcolor\":\"white\",\"linecolor\":\"white\",\"showbackground\":true,\"ticks\":\"\",\"zerolinecolor\":\"white\",\"gridwidth\":2},\"zaxis\":{\"backgroundcolor\":\"#E5ECF6\",\"gridcolor\":\"white\",\"linecolor\":\"white\",\"showbackground\":true,\"ticks\":\"\",\"zerolinecolor\":\"white\",\"gridwidth\":2}},\"shapedefaults\":{\"line\":{\"color\":\"#2a3f5f\"}},\"annotationdefaults\":{\"arrowcolor\":\"#2a3f5f\",\"arrowhead\":0,\"arrowwidth\":1},\"geo\":{\"bgcolor\":\"white\",\"landcolor\":\"#E5ECF6\",\"subunitcolor\":\"white\",\"showland\":true,\"showlakes\":true,\"lakecolor\":\"white\"},\"title\":{\"x\":0.05},\"mapbox\":{\"style\":\"light\"}}},\"font\":{\"size\":10,\"color\":\"white\"},\"hovermode\":\"x\",\"title\":{\"text\":\"Income & Expenses\\u003cbr\\u003eProperty Address: 123 Main St, Tampa, FL 33603\"},\"plot_bgcolor\":\"black\",\"paper_bgcolor\":\"black\"},                        {\"responsive\": true}                    ).then(function(){\n",
              "                            \n",
              "var gd = document.getElementById('655bf64d-965c-491a-b7c6-293338320b4f');\n",
              "var x = new MutationObserver(function (mutations, observer) {{\n",
              "        var display = window.getComputedStyle(gd).display;\n",
              "        if (!display || display === 'none') {{\n",
              "            console.log([gd, 'removed!']);\n",
              "            Plotly.purge(gd);\n",
              "            observer.disconnect();\n",
              "        }}\n",
              "}});\n",
              "\n",
              "// Listen for the removal of the full notebook cells\n",
              "var notebookContainer = gd.closest('#notebook-container');\n",
              "if (notebookContainer) {{\n",
              "    x.observe(notebookContainer, {childList: true});\n",
              "}}\n",
              "\n",
              "// Listen for the clearing of the current output cell\n",
              "var outputEl = gd.closest('.output');\n",
              "if (outputEl) {{\n",
              "    x.observe(outputEl, {childList: true});\n",
              "}}\n",
              "\n",
              "                        })                };                            </script>        </div>\n",
              "</body>\n",
              "</html>"
            ]
          },
          "metadata": {}
        }
      ]
    },
    {
      "cell_type": "markdown",
      "source": [
        "*italicized text*# End Notebook"
      ],
      "metadata": {
        "id": "F-_0rUGqOY4O"
      }
    },
    {
      "cell_type": "code",
      "source": [
        "import numpy as np\n",
        "\n",
        "def calculate_future_value(principal, monthly_contribution, annual_return, annual_inflation, years):\n",
        "    months = years * 12\n",
        "    monthly_return = (1 + annual_return) ** (1/12) - 1\n",
        "    monthly_inflation = (1 + annual_inflation) ** (1/12) - 1\n",
        "\n",
        "    values = [principal]\n",
        "    current_value = principal\n",
        "\n",
        "    for _ in range(months):\n",
        "        current_value = (current_value + monthly_contribution) * (1 + monthly_return)\n",
        "        real_value = current_value / (1 + monthly_inflation)\n",
        "        values.append(real_value)\n",
        "\n",
        "    return np.array(values)\n",
        "\n",
        "# Example usage\n",
        "principal = 10000\n",
        "monthly_contribution = 500\n",
        "annual_return = 0.05\n",
        "annual_inflation = 0.15\n",
        "years = 10\n",
        "\n",
        "future_values = calculate_future_value(principal, monthly_contribution, annual_return, annual_inflation, years)\n",
        "\n",
        "print(future_values)"
      ],
      "metadata": {
        "colab": {
          "base_uri": "https://localhost:8080/"
        },
        "id": "hHVbv4adwYgD",
        "outputId": "d417d237-1fdd-4ba1-d82f-e8825bb254d1"
      },
      "execution_count": null,
      "outputs": [
        {
          "output_type": "stream",
          "name": "stdout",
          "text": [
            "[ 10000.          10491.86356051  11050.79863297  11612.89400558\n",
            "  12178.16754716  12746.63722752  13318.32111811  13893.23739253\n",
            "  14471.40432715  15052.84030167  15637.56379973  16225.59340946\n",
            "  16816.9478241   17411.64584257  18009.7063701   18611.1484188\n",
            "  19215.99110828  19824.25366627  20435.9554292   21051.11584283\n",
            "  21669.75446287  22291.89095561  22917.54509854  23546.73678095\n",
            "  24179.48600461  24815.81288437  25455.73764882  26099.28064094\n",
            "  26746.46231869  27397.30325574  28051.82414207  28710.04578465\n",
            "  29371.98910809  30037.67515533  30707.12508826  31380.36018844\n",
            "  32057.40185775  32738.2716191   33422.99111706  34111.58211862\n",
            "  34804.06651382  35500.46631646  36200.80366483  36905.1008224\n",
            "  37613.38017848  38325.66424902  39041.97567726  39762.33723445\n",
            "  40486.77182062  41215.30246526  41947.95232808  42684.74469975\n",
            "  43425.70300261  44170.85079143  44920.21175419  45673.80971279\n",
            "  46431.6686238   47193.81257928  47960.26580749  48731.05267368\n",
            "  49506.19768088  50285.72547065  51069.66082387  51858.02866155\n",
            "  52650.85404561  53448.16217966  54249.97840981  55056.3282255\n",
            "  55867.23726029  56682.73129265  57502.83624683  58327.57819366\n",
            "  59156.98335137  59991.07808641  60829.88891436  61673.44250069\n",
            "  62521.76566163  63374.88536505  64232.82873132  65095.62303411\n",
            "  65963.29570133  66835.87431596  67713.38661694  68595.86050004\n",
            "  69483.32401878  70375.80538529  71273.33297119  72175.93530856\n",
            "  73083.64109076  73996.47917343  74914.47857533  75837.66847932\n",
            "  76766.07823325  77699.7373509   78638.67551294  79582.92256787\n",
            "  80532.50853292  81487.46359508  82447.818112    83413.60261298\n",
            "  84384.84779994  85361.58454839  86343.84390843  87331.6571057\n",
            "  88325.0555424   89324.07079828  90328.73463167  91339.07898044\n",
            "  92355.13596305  93376.93787956  94404.51721266  95437.90662871\n",
            "  96477.13897876  97522.2472996   98573.26481484  99630.22493592\n",
            " 100693.16126319 101762.10758698 102837.09788871 103918.16634189\n",
            " 105005.34731328]\n"
          ]
        }
      ]
    },
    {
      "cell_type": "code",
      "source": [
        "import numpy_financial as np\n",
        "\n",
        "monthly_payment = np.ppmt(0.085/12, 1, 12*12, 100000)\n",
        "\n",
        "print(f\"The monthly payment is: ${monthly_payment:.2f}\")"
      ],
      "metadata": {
        "colab": {
          "base_uri": "https://localhost:8080/"
        },
        "id": "Sv-_Usgq42qC",
        "outputId": "48e73757-f7ab-4e3d-da7f-36ebbdf93281"
      },
      "execution_count": null,
      "outputs": [
        {
          "output_type": "stream",
          "name": "stdout",
          "text": [
            "The monthly payment is: $-401.72\n"
          ]
        }
      ]
    },
    {
      "cell_type": "markdown",
      "source": [
        "Hhhh"
      ],
      "metadata": {
        "id": "OAq7vsVTRxah"
      }
    },
    {
      "cell_type": "code",
      "source": [
        "from dataclasses import dataclass\n",
        "from datetime import datetime, date, timedelta\n",
        "import pandas as pd\n",
        "from typing import Any, Dict\n",
        "from dateutil.relativedelta import relativedelta\n",
        "from math import floor\n",
        "import numpy as np\n",
        "\n",
        "\n",
        "number_of_months = 30*12\n",
        "average_days_in_month = 30.436875\n",
        "cumulative_inflation_rate: np.array = np.cumprod(np.full(number_of_months, 1 + 0.09/12)) # let's say that yearly inflation is 9%\n",
        "cumulative_realty_price_change_monthly_rate: np.array = np.cumprod(np.full(number_of_months, 1 + 0.1/12)) # https://www.perplexity.ai/search/srednii-rost-tseny-zhiloi-nedv-5xtf_BFOTbeLgEYBmmSPKg\n",
        "cumulative_realty_rent_change_monthly_rate: np.array = np.cumprod(np.full(number_of_months, 1 + 0.04/12)) # https://www.perplexity.ai/search/srednii-rost-tseny-arendy-zhil-lhvgH9HnTGmuhlsJHdI6xg\n",
        "cumulative_cash_conservative_investment_rate: np.array = np.cumprod(np.full(number_of_months, 1 + 0.01)) # basic rate of investment cash to a bank deposit or goverment bonds. This is used to adjust costs as they would be invested in the conservative tools\n",
        "\n",
        "@dataclass\n",
        "class AssetBase:\n",
        "  name: str\n",
        "  # instant costs means a money amount you need to invest at certain dates\n",
        "  # it returns a instant costs by end of by_month_end_index\n",
        "  def instant_costs(self, by_month_end_index=0) -> int:\n",
        "    pass\n",
        "\n",
        "  def monthly_costs(self, by_month_end_index=0) -> int :\n",
        "    pass\n",
        "\n",
        "  # instant income means money a amount you will get at certain dates\n",
        "  # it returns a instant income by end of by_month_end_index\n",
        "  def instant_income(self, by_month_end_index=0) -> int :\n",
        "    pass\n",
        "\n",
        "  def monthly_income(self, by_month_end_index=0) -> int :\n",
        "    pass\n",
        "\n",
        "  # def name() -> str:\n",
        "  #   pass\n",
        "\n",
        "\n",
        "@dataclass\n",
        "class RealtyObject(AssetBase):\n",
        "  # name: str\n",
        "\n",
        "  # instant expences\n",
        "  instant_price_rur: int # how much of personal money is going to be invested\n",
        "  instant_price_renovation_rur: int # how much of personal money is going to be invested\n",
        "\n",
        "  # mothly expences\n",
        "  renovation_principal_and_interest_rur: int\n",
        "  realty_principal_and_interest_rur: int # mortgage payment\n",
        "  cap_ex_rur: int\n",
        "  taxes_percentage: float\n",
        "  property_management_rur: int\n",
        "  insurance_rur: int\n",
        "  additional_monthly_expenses_rur: int\n",
        "  utilities_rur: int # Costs incurred by using utilities such as electricity, water, waste disposal, heating, and sewage\n",
        "\n",
        "\n",
        "  # timings\n",
        "  date_of_getting_keys: date\n",
        "  renovation_time_months: int\n",
        "\n",
        "  # instant income\n",
        "  realty_object_price_rub: int\n",
        "\n",
        "  # monthly income\n",
        "  expected_monthly_rent_rur: int\n",
        "  additional_income_rur: int\n",
        "  vacancy_percentage: float\n",
        "\n",
        "  # external market data\n",
        "  cumulative_inflation_rate: np.array\n",
        "  cumulative_realty_price_change_monthly_rate: np.array\n",
        "  cumulative_realty_rent_change_monthly_rate: np.array\n",
        "  cumulative_cash_conservative_investment_rate: np.array\n",
        "\n",
        "\n",
        "  def date_ready_to_get_income(self) -> date:\n",
        "    return self.date_of_getting_keys + relativedelta(months_range=self.renovation_time_months)\n",
        "\n",
        "  def instant_costs(self, by_month_end_index=0) -> int:\n",
        "    months_to_renovation_start = floor((self.date_of_getting_keys - date.today()).days / average_days_in_month)\n",
        "    if months_to_renovation_start < 0: # means that object already ready to use as current date is after date of building the realty\n",
        "      instant_costs = (self.instant_price_rur + self.instant_price_renovation_rur) * self.cumulative_cash_conservative_investment_rate[by_month_end_index]\n",
        "    elif by_month_end_index > months_to_renovation_start:\n",
        "      instant_costs = self.instant_price_rur * self.cumulative_cash_conservative_investment_rate[by_month_end_index] + self.instant_price_renovation_rur * (self.cumulative_cash_conservative_investment_rate[by_month_end_index] / self.cumulative_cash_conservative_investment_rate[by_month_end_index - months_to_renovation_start])\n",
        "    elif by_month_end_index >= 0 and by_month_end_index <= months_to_renovation_start:\n",
        "      instant_costs =  self.instant_price_rur * self.cumulative_realty_price_change_monthly_rate[by_month_end_index] * self.cumulative_cash_conservative_investment_rate[by_month_end_index]\n",
        "    else:\n",
        "      raise Exception(\"Logic error occurred\")  # logic error\n",
        "    return instant_costs\n",
        "\n",
        "  def monthly_costs(self, by_month_end_index=0) -> int :\n",
        "    return (self.renovation_principal_and_interest_rur + \\\n",
        "    self.realty_principal_and_interest_rur + (self.cap_ex_rur + \\\n",
        "    self.taxes_percentage * self.monthly_income() + \\\n",
        "    self.property_management_rur + self.insurance_rur + \\\n",
        "    self.additional_monthly_expenses_rur + self.utilities_rur)*self.cumulative_inflation_rate[by_month_end_index]) * self.cumulative_cash_conservative_investment_rate[by_month_end_index]\n",
        "\n",
        "  def instant_income(self, by_month_end_index=0) -> int :\n",
        "    return self.realty_object_price_rub * self.cumulative_realty_price_change_monthly_rate[by_month_end_index]\n",
        "\n",
        "  def monthly_income(self, by_month_end_index=0) -> int :\n",
        "    return (self.expected_monthly_rent_rur + self.additional_income_rur)*self.vacancy_percentage * self.cumulative_realty_rent_change_monthly_rate[by_month_end_index]\n",
        "\n",
        "\n",
        "avant_appartment_fifth_percent_mortgage = RealtyObject(name = 'Avant 5 percent mortgage',  instant_price_rur=4000000, instant_price_renovation_rur=2500000, renovation_principal_and_interest_rur=0, realty_principal_and_interest_rur=71796, cap_ex_rur=5000, taxes_percentage=0.07, property_management_rur=20000, insurance_rur=0, additional_monthly_expenses_rur=0, utilities_rur=0, date_of_getting_keys=date(2027, 6, 1),  renovation_time_months=3, realty_object_price_rub=22000000, expected_monthly_rent_rur=120000, additional_income_rur=0,vacancy_percentage=0.9, cumulative_inflation_rate=cumulative_inflation_rate, cumulative_realty_price_change_monthly_rate=cumulative_realty_price_change_monthly_rate, cumulative_realty_rent_change_monthly_rate=cumulative_realty_rent_change_monthly_rate,cumulative_cash_conservative_investment_rate=cumulative_cash_conservative_investment_rate)\n",
        "\n",
        "avant_appartment = RealtyObject(name = 'Avant',  instant_price_rur=6000000, instant_price_renovation_rur=2500000, renovation_principal_and_interest_rur=0, realty_principal_and_interest_rur=254222, cap_ex_rur=5000, taxes_percentage=0.07, property_management_rur=20000, insurance_rur=0, additional_monthly_expenses_rur=0, utilities_rur=0, date_of_getting_keys=date(2027, 6, 1),  renovation_time_months=3, realty_object_price_rub=22000000, expected_monthly_rent_rur=120000, additional_income_rur=0,vacancy_percentage=0.9, cumulative_inflation_rate=cumulative_inflation_rate, cumulative_realty_price_change_monthly_rate=cumulative_realty_price_change_monthly_rate, cumulative_realty_rent_change_monthly_rate=cumulative_realty_rent_change_monthly_rate, cumulative_cash_conservative_investment_rate=cumulative_cash_conservative_investment_rate)\n",
        "\n",
        "def calculate_income(asset: AssetBase):\n",
        "  months_range = range(number_of_months) # 30 years\n",
        "  income_from_asset_rub = list()\n",
        "  last_income_from_asset_rub = 0\n",
        "  for current_month_index in months_range:\n",
        "    last_income_from_asset_rub = last_income_from_asset_rub + asset.instant_income(current_month_index) + asset.monthly_income(current_month_index) -  asset.instant_costs(current_month_index) - asset.monthly_costs(current_month_index)\n",
        "    income_from_asset_rub.append(last_income_from_asset_rub)\n",
        "  return {'months_range': months_range, f'{asset.name} income': income_from_asset_rub}\n",
        "\n",
        "import matplotlib.pyplot as plt\n",
        "\n",
        "# Create a sample DataFrame\n",
        "avant_df = pd.DataFrame.from_dict(calculate_income(avant_appartment))\n",
        "avant_appartment_fifth_percent_mortgage_df = pd.DataFrame.from_dict(calculate_income(avant_appartment_fifth_percent_mortgage))\n",
        "\n",
        "fig, axes = plt.subplots(nrows=2, ncols=1, figsize=(8, 6))  # 2 rows, 1 column\n",
        "\n",
        "# Plot a bar graph\n",
        "avant_df.plot(ax=axes[0], x=\"months_range\", y=\"Avant income\", kind=\"line\")\n",
        "avant_appartment_fifth_percent_mortgage_df.plot(ax=axes[1], x=\"months_range\", y=\"Avant 5 percent mortgage income\", kind=\"line\")\n",
        "\n",
        "plt.show()"
      ],
      "metadata": {
        "id": "QyPz6WtxR1dC",
        "colab": {
          "base_uri": "https://localhost:8080/",
          "height": 557
        },
        "outputId": "0f095499-902f-46be-a8b1-f1c3717887aa"
      },
      "execution_count": null,
      "outputs": [
        {
          "output_type": "display_data",
          "data": {
            "text/plain": [
              "<Figure size 800x600 with 2 Axes>"
            ],
            "image/png": "[encoded data removed]"
          },
          "metadata": {}
        }
      ]
    },
    {
      "cell_type": "markdown",
      "source": [
        "\n",
        "\n",
        "# Plotting"
      ],
      "metadata": {
        "id": "AoHv2IlHHeAf"
      }
    }
  ]
}